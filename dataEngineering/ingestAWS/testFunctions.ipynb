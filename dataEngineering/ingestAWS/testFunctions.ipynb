{
 "cells": [
  {
   "cell_type": "code",
   "execution_count": 2,
   "metadata": {},
   "outputs": [],
   "source": [
    "from packages.utils import fetch_crude_oil, fetch_crude_oil_brent, fetch_daily_stock, fetch_daily_fx, fetch_daily_stock\n",
    "import requests\n",
    "import json\n",
    "import os\n",
    "import pandas as pd\n",
    "import numpy as np\n",
    "import matplotlib.pyplot as plt\n",
    "import seaborn as sns"
   ]
  },
  {
   "cell_type": "code",
   "execution_count": 3,
   "metadata": {},
   "outputs": [],
   "source": [
    "api_key = os.getenv('AV_API_KEY')\n",
    "date_format = \"%Y-%m-%d\""
   ]
  },
  {
   "cell_type": "code",
   "execution_count": 8,
   "metadata": {},
   "outputs": [],
   "source": [
    "url = \"https://www.alphavantage.co/query\"\n",
    "params = {\n",
    "\"function\": \"TIME_SERIES_DAILY\",\n",
    "\"symbol\": \"AAPL\",\n",
    "\"datatype\":\"json\",\n",
    "\"outputsize\":\"compact\",#compact/full\n",
    "\"apikey\": api_key\n",
    "}"
   ]
  },
  {
   "cell_type": "code",
   "execution_count": 9,
   "metadata": {},
   "outputs": [
    {
     "name": "stderr",
     "output_type": "stream",
     "text": [
      "/Library/Frameworks/Python.framework/Versions/3.12/lib/python3.12/site-packages/urllib3/connectionpool.py:1103: InsecureRequestWarning: Unverified HTTPS request is being made to host 'www.alphavantage.co'. Adding certificate verification is strongly advised. See: https://urllib3.readthedocs.io/en/latest/advanced-usage.html#tls-warnings\n",
      "  warnings.warn(\n"
     ]
    }
   ],
   "source": [
    "response = requests.get(url, params=params, verify=False)\n",
    "data = response.json()"
   ]
  },
  {
   "cell_type": "code",
   "execution_count": 3,
   "metadata": {},
   "outputs": [
    {
     "name": "stderr",
     "output_type": "stream",
     "text": [
      "/Library/Frameworks/Python.framework/Versions/3.12/lib/python3.12/site-packages/urllib3/connectionpool.py:1103: InsecureRequestWarning: Unverified HTTPS request is being made to host 'www.alphavantage.co'. Adding certificate verification is strongly advised. See: https://urllib3.readthedocs.io/en/latest/advanced-usage.html#tls-warnings\n",
      "  warnings.warn(\n"
     ]
    }
   ],
   "source": [
    "df = fetch_daily_stock('AAPL')"
   ]
  },
  {
   "cell_type": "code",
   "execution_count": 4,
   "metadata": {},
   "outputs": [
    {
     "data": {
      "text/html": [
       "<div>\n",
       "<style scoped>\n",
       "    .dataframe tbody tr th:only-of-type {\n",
       "        vertical-align: middle;\n",
       "    }\n",
       "\n",
       "    .dataframe tbody tr th {\n",
       "        vertical-align: top;\n",
       "    }\n",
       "\n",
       "    .dataframe thead th {\n",
       "        text-align: right;\n",
       "    }\n",
       "</style>\n",
       "<table border=\"1\" class=\"dataframe\">\n",
       "  <thead>\n",
       "    <tr style=\"text-align: right;\">\n",
       "      <th></th>\n",
       "      <th>open</th>\n",
       "      <th>high</th>\n",
       "      <th>low</th>\n",
       "      <th>close</th>\n",
       "      <th>volume</th>\n",
       "    </tr>\n",
       "  </thead>\n",
       "  <tbody>\n",
       "    <tr>\n",
       "      <th>2024-03-25</th>\n",
       "      <td>170.565</td>\n",
       "      <td>171.9400</td>\n",
       "      <td>169.450</td>\n",
       "      <td>170.85</td>\n",
       "      <td>54288328</td>\n",
       "    </tr>\n",
       "    <tr>\n",
       "      <th>2024-03-26</th>\n",
       "      <td>170.000</td>\n",
       "      <td>171.4200</td>\n",
       "      <td>169.580</td>\n",
       "      <td>169.71</td>\n",
       "      <td>57388449</td>\n",
       "    </tr>\n",
       "    <tr>\n",
       "      <th>2024-03-27</th>\n",
       "      <td>170.410</td>\n",
       "      <td>173.6000</td>\n",
       "      <td>170.110</td>\n",
       "      <td>173.31</td>\n",
       "      <td>60273265</td>\n",
       "    </tr>\n",
       "    <tr>\n",
       "      <th>2024-03-28</th>\n",
       "      <td>171.750</td>\n",
       "      <td>172.2300</td>\n",
       "      <td>170.510</td>\n",
       "      <td>171.48</td>\n",
       "      <td>65672690</td>\n",
       "    </tr>\n",
       "    <tr>\n",
       "      <th>2024-04-01</th>\n",
       "      <td>171.190</td>\n",
       "      <td>171.2500</td>\n",
       "      <td>169.475</td>\n",
       "      <td>170.03</td>\n",
       "      <td>43772506</td>\n",
       "    </tr>\n",
       "    <tr>\n",
       "      <th>...</th>\n",
       "      <td>...</td>\n",
       "      <td>...</td>\n",
       "      <td>...</td>\n",
       "      <td>...</td>\n",
       "      <td>...</td>\n",
       "    </tr>\n",
       "    <tr>\n",
       "      <th>2024-08-09</th>\n",
       "      <td>212.100</td>\n",
       "      <td>216.7800</td>\n",
       "      <td>211.970</td>\n",
       "      <td>216.24</td>\n",
       "      <td>42201646</td>\n",
       "    </tr>\n",
       "    <tr>\n",
       "      <th>2024-08-12</th>\n",
       "      <td>216.070</td>\n",
       "      <td>219.5099</td>\n",
       "      <td>215.600</td>\n",
       "      <td>217.53</td>\n",
       "      <td>38028092</td>\n",
       "    </tr>\n",
       "    <tr>\n",
       "      <th>2024-08-13</th>\n",
       "      <td>219.010</td>\n",
       "      <td>221.8900</td>\n",
       "      <td>219.010</td>\n",
       "      <td>221.27</td>\n",
       "      <td>44155331</td>\n",
       "    </tr>\n",
       "    <tr>\n",
       "      <th>2024-08-14</th>\n",
       "      <td>220.570</td>\n",
       "      <td>223.0300</td>\n",
       "      <td>219.700</td>\n",
       "      <td>221.72</td>\n",
       "      <td>41960574</td>\n",
       "    </tr>\n",
       "    <tr>\n",
       "      <th>2024-08-15</th>\n",
       "      <td>224.600</td>\n",
       "      <td>225.3500</td>\n",
       "      <td>222.760</td>\n",
       "      <td>224.72</td>\n",
       "      <td>46414013</td>\n",
       "    </tr>\n",
       "  </tbody>\n",
       "</table>\n",
       "<p>100 rows × 5 columns</p>\n",
       "</div>"
      ],
      "text/plain": [
       "               open      high      low   close    volume\n",
       "2024-03-25  170.565  171.9400  169.450  170.85  54288328\n",
       "2024-03-26  170.000  171.4200  169.580  169.71  57388449\n",
       "2024-03-27  170.410  173.6000  170.110  173.31  60273265\n",
       "2024-03-28  171.750  172.2300  170.510  171.48  65672690\n",
       "2024-04-01  171.190  171.2500  169.475  170.03  43772506\n",
       "...             ...       ...      ...     ...       ...\n",
       "2024-08-09  212.100  216.7800  211.970  216.24  42201646\n",
       "2024-08-12  216.070  219.5099  215.600  217.53  38028092\n",
       "2024-08-13  219.010  221.8900  219.010  221.27  44155331\n",
       "2024-08-14  220.570  223.0300  219.700  221.72  41960574\n",
       "2024-08-15  224.600  225.3500  222.760  224.72  46414013\n",
       "\n",
       "[100 rows x 5 columns]"
      ]
     },
     "execution_count": 4,
     "metadata": {},
     "output_type": "execute_result"
    }
   ],
   "source": [
    "df"
   ]
  },
  {
   "cell_type": "code",
   "execution_count": null,
   "metadata": {},
   "outputs": [],
   "source": []
  }
 ],
 "metadata": {
  "kernelspec": {
   "display_name": "Python 3",
   "language": "python",
   "name": "python3"
  },
  "language_info": {
   "codemirror_mode": {
    "name": "ipython",
    "version": 3
   },
   "file_extension": ".py",
   "mimetype": "text/x-python",
   "name": "python",
   "nbconvert_exporter": "python",
   "pygments_lexer": "ipython3",
   "version": "3.12.1"
  }
 },
 "nbformat": 4,
 "nbformat_minor": 2
}
