{
 "cells": [
  {
   "cell_type": "code",
   "execution_count": 1,
   "metadata": {},
   "outputs": [],
   "source": [
    "from packages.utils import fetch_crude_oil, fetch_crude_oil_brent, fetch_daily_stock, fetch_daily_fx, fetch_daily_stock, get_row_by_date, load_to_s3\n",
    "import requests\n",
    "import json\n",
    "import os\n",
    "import pandas as pd\n",
    "import numpy as np\n",
    "import matplotlib.pyplot as plt\n",
    "import seaborn as sns\n",
    "import s3fs\n",
    "from datetime import datetime"
   ]
  },
  {
   "cell_type": "code",
   "execution_count": 2,
   "metadata": {},
   "outputs": [],
   "source": [
    "api_key = os.getenv('AV_API_KEY')\n",
    "date_format = \"%Y-%m-%d\""
   ]
  },
  {
   "cell_type": "code",
   "execution_count": 3,
   "metadata": {},
   "outputs": [],
   "source": [
    "url = \"https://www.alphavantage.co/query\"\n",
    "params = {\n",
    "\"function\": \"TIME_SERIES_DAILY\",\n",
    "\"symbol\": \"AAPL\",\n",
    "\"datatype\":\"json\",\n",
    "\"outputsize\":\"compact\",#compact/full\n",
    "\"apikey\": api_key\n",
    "}"
   ]
  },
  {
   "cell_type": "code",
   "execution_count": 4,
   "metadata": {},
   "outputs": [
    {
     "name": "stderr",
     "output_type": "stream",
     "text": [
      "/Library/Frameworks/Python.framework/Versions/3.12/lib/python3.12/site-packages/urllib3/connectionpool.py:1103: InsecureRequestWarning: Unverified HTTPS request is being made to host 'www.alphavantage.co'. Adding certificate verification is strongly advised. See: https://urllib3.readthedocs.io/en/latest/advanced-usage.html#tls-warnings\n",
      "  warnings.warn(\n"
     ]
    }
   ],
   "source": [
    "response = requests.get(url, params=params, verify=False)\n",
    "data = response.json()"
   ]
  },
  {
   "cell_type": "code",
   "execution_count": 5,
   "metadata": {},
   "outputs": [
    {
     "name": "stderr",
     "output_type": "stream",
     "text": [
      "/Library/Frameworks/Python.framework/Versions/3.12/lib/python3.12/site-packages/urllib3/connectionpool.py:1103: InsecureRequestWarning: Unverified HTTPS request is being made to host 'www.alphavantage.co'. Adding certificate verification is strongly advised. See: https://urllib3.readthedocs.io/en/latest/advanced-usage.html#tls-warnings\n",
      "  warnings.warn(\n"
     ]
    }
   ],
   "source": [
    "df = fetch_daily_stock('AAPL')"
   ]
  },
  {
   "cell_type": "code",
   "execution_count": 6,
   "metadata": {},
   "outputs": [
    {
     "data": {
      "text/html": [
       "<div>\n",
       "<style scoped>\n",
       "    .dataframe tbody tr th:only-of-type {\n",
       "        vertical-align: middle;\n",
       "    }\n",
       "\n",
       "    .dataframe tbody tr th {\n",
       "        vertical-align: top;\n",
       "    }\n",
       "\n",
       "    .dataframe thead th {\n",
       "        text-align: right;\n",
       "    }\n",
       "</style>\n",
       "<table border=\"1\" class=\"dataframe\">\n",
       "  <thead>\n",
       "    <tr style=\"text-align: right;\">\n",
       "      <th></th>\n",
       "      <th>open</th>\n",
       "      <th>high</th>\n",
       "      <th>low</th>\n",
       "      <th>close</th>\n",
       "      <th>volume</th>\n",
       "    </tr>\n",
       "  </thead>\n",
       "  <tbody>\n",
       "    <tr>\n",
       "      <th>2024-04-09</th>\n",
       "      <td>168.7000</td>\n",
       "      <td>170.08</td>\n",
       "      <td>168.3500</td>\n",
       "      <td>169.67</td>\n",
       "      <td>42231444</td>\n",
       "    </tr>\n",
       "    <tr>\n",
       "      <th>2024-04-10</th>\n",
       "      <td>168.8000</td>\n",
       "      <td>169.09</td>\n",
       "      <td>167.1100</td>\n",
       "      <td>167.78</td>\n",
       "      <td>49709336</td>\n",
       "    </tr>\n",
       "    <tr>\n",
       "      <th>2024-04-11</th>\n",
       "      <td>168.3400</td>\n",
       "      <td>175.46</td>\n",
       "      <td>168.1600</td>\n",
       "      <td>175.04</td>\n",
       "      <td>91070275</td>\n",
       "    </tr>\n",
       "    <tr>\n",
       "      <th>2024-04-12</th>\n",
       "      <td>174.2600</td>\n",
       "      <td>178.36</td>\n",
       "      <td>174.2100</td>\n",
       "      <td>176.55</td>\n",
       "      <td>101670886</td>\n",
       "    </tr>\n",
       "    <tr>\n",
       "      <th>2024-04-15</th>\n",
       "      <td>175.3600</td>\n",
       "      <td>176.63</td>\n",
       "      <td>172.5000</td>\n",
       "      <td>172.69</td>\n",
       "      <td>73531773</td>\n",
       "    </tr>\n",
       "    <tr>\n",
       "      <th>...</th>\n",
       "      <td>...</td>\n",
       "      <td>...</td>\n",
       "      <td>...</td>\n",
       "      <td>...</td>\n",
       "      <td>...</td>\n",
       "    </tr>\n",
       "    <tr>\n",
       "      <th>2024-08-23</th>\n",
       "      <td>225.6589</td>\n",
       "      <td>228.22</td>\n",
       "      <td>224.3300</td>\n",
       "      <td>226.84</td>\n",
       "      <td>38677250</td>\n",
       "    </tr>\n",
       "    <tr>\n",
       "      <th>2024-08-26</th>\n",
       "      <td>226.7600</td>\n",
       "      <td>227.28</td>\n",
       "      <td>223.8905</td>\n",
       "      <td>227.18</td>\n",
       "      <td>30602208</td>\n",
       "    </tr>\n",
       "    <tr>\n",
       "      <th>2024-08-27</th>\n",
       "      <td>225.9950</td>\n",
       "      <td>228.85</td>\n",
       "      <td>224.8900</td>\n",
       "      <td>228.03</td>\n",
       "      <td>35934559</td>\n",
       "    </tr>\n",
       "    <tr>\n",
       "      <th>2024-08-28</th>\n",
       "      <td>227.9200</td>\n",
       "      <td>229.86</td>\n",
       "      <td>225.6800</td>\n",
       "      <td>226.49</td>\n",
       "      <td>38052167</td>\n",
       "    </tr>\n",
       "    <tr>\n",
       "      <th>2024-08-29</th>\n",
       "      <td>230.1000</td>\n",
       "      <td>232.92</td>\n",
       "      <td>228.8800</td>\n",
       "      <td>229.79</td>\n",
       "      <td>51906297</td>\n",
       "    </tr>\n",
       "  </tbody>\n",
       "</table>\n",
       "<p>100 rows × 5 columns</p>\n",
       "</div>"
      ],
      "text/plain": [
       "                open    high       low   close     volume\n",
       "2024-04-09  168.7000  170.08  168.3500  169.67   42231444\n",
       "2024-04-10  168.8000  169.09  167.1100  167.78   49709336\n",
       "2024-04-11  168.3400  175.46  168.1600  175.04   91070275\n",
       "2024-04-12  174.2600  178.36  174.2100  176.55  101670886\n",
       "2024-04-15  175.3600  176.63  172.5000  172.69   73531773\n",
       "...              ...     ...       ...     ...        ...\n",
       "2024-08-23  225.6589  228.22  224.3300  226.84   38677250\n",
       "2024-08-26  226.7600  227.28  223.8905  227.18   30602208\n",
       "2024-08-27  225.9950  228.85  224.8900  228.03   35934559\n",
       "2024-08-28  227.9200  229.86  225.6800  226.49   38052167\n",
       "2024-08-29  230.1000  232.92  228.8800  229.79   51906297\n",
       "\n",
       "[100 rows x 5 columns]"
      ]
     },
     "execution_count": 6,
     "metadata": {},
     "output_type": "execute_result"
    }
   ],
   "source": [
    "df"
   ]
  },
  {
   "cell_type": "code",
   "execution_count": 7,
   "metadata": {},
   "outputs": [
    {
     "name": "stdout",
     "output_type": "stream",
     "text": [
      "open           230.10\n",
      "high           232.92\n",
      "low            228.88\n",
      "close          229.79\n",
      "volume    51906297.00\n",
      "Name: 2024-08-29 00:00:00, dtype: float64\n"
     ]
    }
   ],
   "source": [
    "specificSeries = get_row_by_date(df, '2024-08-29')\n",
    "print(specificSeries)"
   ]
  },
  {
   "cell_type": "code",
   "execution_count": 8,
   "metadata": {},
   "outputs": [],
   "source": [
    "aws_access_key_id = os.getenv('AWS_ACCESS_KEY_ID')\n",
    "aws_secret_access_key = os.getenv('AWS_SECRET_ACCESS_KEY')"
   ]
  },
  {
   "cell_type": "code",
   "execution_count": 9,
   "metadata": {},
   "outputs": [
    {
     "name": "stdout",
     "output_type": "stream",
     "text": [
      "Data successfully written to s3://myprojects-ak/dataEngineeringPOC/2024-08-30/testdf.parquet\n"
     ]
    }
   ],
   "source": [
    "load_to_s3(df,'myprojects-ak/dataEngineeringPOC','testdf', aws_access_key_id, aws_secret_access_key)"
   ]
  },
  {
   "cell_type": "code",
   "execution_count": 10,
   "metadata": {},
   "outputs": [
    {
     "name": "stdout",
     "output_type": "stream",
     "text": [
      "     open    high     low   close     volume\n",
      "0  168.70  170.08  168.35  169.67   42231444\n",
      "1  168.80  169.09  167.11  167.78   49709336\n",
      "2  168.34  175.46  168.16  175.04   91070275\n",
      "3  174.26  178.36  174.21  176.55  101670886\n",
      "4  175.36  176.63  172.50  172.69   73531773\n"
     ]
    }
   ],
   "source": [
    "\n",
    "current_date = datetime.now().strftime('%Y-%m-%d')\n",
    "s3_file_path = f\"s3://myprojects-ak/dataEngineeringPOC/{current_date}/testdf.parquet\"\n",
    "\n",
    "df_read = pd.read_parquet(s3_file_path, storage_options={\n",
    "    \"key\": aws_access_key_id,\n",
    "    \"secret\": aws_secret_access_key,\n",
    "})\n",
    "\n",
    "print(df_read.head())"
   ]
  }
 ],
 "metadata": {
  "kernelspec": {
   "display_name": "Python 3",
   "language": "python",
   "name": "python3"
  },
  "language_info": {
   "codemirror_mode": {
    "name": "ipython",
    "version": 3
   },
   "file_extension": ".py",
   "mimetype": "text/x-python",
   "name": "python",
   "nbconvert_exporter": "python",
   "pygments_lexer": "ipython3",
   "version": "3.12.1"
  }
 },
 "nbformat": 4,
 "nbformat_minor": 2
}
